{
 "cells": [
  {
   "cell_type": "code",
   "execution_count": 4,
   "id": "f351fb62",
   "metadata": {},
   "outputs": [],
   "source": [
    "import re\n",
    "import os\n",
    "from Bio import SeqIO\n",
    "import pandas as pd\n"
   ]
  },
  {
   "cell_type": "code",
   "execution_count": 8,
   "id": "bb93305a",
   "metadata": {},
   "outputs": [],
   "source": [
    "# read file\n",
    "\n",
    "tsv_read = pd.read_csv(\"/run/media/guangyichen/Sheldon/Clustering-Curated/clusterRes_0.7/clusterRes_0.7_cluster.tsv\", header = None, delim_whitespace=True)\n",
    "representative_proteins = tsv_read[0]\n",
    "all_proteins = tsv_read[1]"
   ]
  },
  {
   "cell_type": "code",
   "execution_count": 9,
   "id": "b6fe2769",
   "metadata": {},
   "outputs": [
    {
     "name": "stdout",
     "output_type": "stream",
     "text": [
      "268488\n"
     ]
    }
   ],
   "source": [
    "# Select Protein Clusters\n",
    "# [Curated Data] \n",
    "# In total, threshold = 50, SI = 0.5, 350997 selected \n",
    "#           threshold = 50, SI = 0.6, 323989 selected \n",
    "#           threshold = 50, SI = 0.7, 268488 selected \n",
    "\n",
    "# Select Protein Clusters\n",
    "# [AF Data] \n",
    "\n",
    "\n",
    "threshold = 50 # Curated: 50, AF: 15?\n",
    "\n",
    "protein_list = [] \n",
    "#protein_cluster_list = []\n",
    "\n",
    "for i in range(0,all_proteins.size-1):\n",
    "    if (representative_proteins[i] != \"-\"):\n",
    "        each_cluster = []\n",
    "        each_cluster.append(representative_proteins[i])\n",
    "        for j in range(i+1,representative_proteins.size-1):\n",
    "            if (representative_proteins[j] == representative_proteins[i]):\n",
    "                each_cluster.append(all_proteins[j])\n",
    "                representative_proteins[j] = \"-\"\n",
    "            else:\n",
    "                break\n",
    "\n",
    "        clades_list = []\n",
    "        for k in range(0, len(each_cluster)-1):\n",
    "            each_protein = each_cluster[k]\n",
    "            #print(each_protein)\n",
    "            \n",
    "            #'''\n",
    "            # For Curated Data\n",
    "            if (each_protein[0:4] == \"HIPS\"):\n",
    "                each_clade = re.sub(\"_BOGUS_[0-9]{2,}\", \"\", each_protein)\n",
    "                each_clade = re.sub(\"_[a-z]{2,}.{2,}$\", \"\", each_clade)\n",
    "            else:\n",
    "                each_clade = re.sub(\".gb.{2,}\", \"\", each_protein)\n",
    "                each_clade = re.sub(\"_[a-z | A-Z].*.\", \"\", each_clade)\n",
    "            \n",
    "            #'''\n",
    "    \n",
    "            # For AF Data: \n",
    "            #each_clade = re.sub(\"-.{1,}$\",\"\",each_protein)\n",
    "            \n",
    "            clades_list.append(each_clade)\n",
    "\n",
    "        clades_set = set(clades_list) \n",
    "        \n",
    "        if (len(clades_set) >= threshold):\n",
    "            #protein_cluster_list.append(each_cluster)\n",
    "            \n",
    "            for each_protein in each_cluster:\n",
    "                protein_list.append(each_protein)\n",
    "                \n",
    "            #print(\"----\")\n",
    "\n",
    "print(len(protein_list))\n",
    "#print(protein_list)"
   ]
  },
  {
   "cell_type": "code",
   "execution_count": 10,
   "id": "2b08bf38",
   "metadata": {},
   "outputs": [
    {
     "name": "stdout",
     "output_type": "stream",
     "text": [
      "71\n"
     ]
    }
   ],
   "source": [
    "# Get Unique Clade \n",
    "# For testing purpose \n",
    "\n",
    "all_clade_names = []\n",
    "    \n",
    "for each_protein in protein_list: \n",
    "    #'''\n",
    "    if (each_protein[0:4] == \"HIPS\"):\n",
    "        record_clade_name = re.sub(\"_BOGUS_[0-9]{2,}\", \"\", each_protein)\n",
    "        record_clade_name = re.sub(\"_[a-z]{2,}.{2,}$\", \"\", record_clade_name)\n",
    "    else:\n",
    "        record_clade_name = re.sub(\".gb.{2,}\", \"\", each_protein)\n",
    "        record_clade_name = re.sub(\"_[a-z | A-Z].*.\", \"\", record_clade_name)\n",
    "    #'''\n",
    "        \n",
    "     # For AF Data: \n",
    "    #record_clade_name = re.sub(\"-.{1,}$\",\"\",each_protein)        \n",
    "        \n",
    "        \n",
    "    all_clade_names.append(record_clade_name)\n",
    "    \n",
    "    \n",
    "unique_clade_name = set(all_clade_names)\n",
    "#list(unique_clade_name)\n",
    "print(len(unique_clade_name))\n",
    "#print(unique_clade_name)\n",
    "\n"
   ]
  },
  {
   "cell_type": "code",
   "execution_count": 12,
   "id": "ab1e27e5",
   "metadata": {},
   "outputs": [
    {
     "name": "stdout",
     "output_type": "stream",
     "text": [
      "271\r"
     ]
    },
    {
     "ename": "KeyboardInterrupt",
     "evalue": "",
     "output_type": "error",
     "traceback": [
      "\u001b[0;31m---------------------------------------------------------------------------\u001b[0m",
      "\u001b[0;31mKeyboardInterrupt\u001b[0m                         Traceback (most recent call last)",
      "\u001b[0;32m/tmp/ipykernel_718617/1864454201.py\u001b[0m in \u001b[0;36m<module>\u001b[0;34m\u001b[0m\n\u001b[1;32m     24\u001b[0m \u001b[0;34m\u001b[0m\u001b[0m\n\u001b[1;32m     25\u001b[0m     \u001b[0minput_protein_fasta\u001b[0m \u001b[0;34m=\u001b[0m \u001b[0mos\u001b[0m\u001b[0;34m.\u001b[0m\u001b[0mpath\u001b[0m\u001b[0;34m.\u001b[0m\u001b[0mjoin\u001b[0m\u001b[0;34m(\u001b[0m\u001b[0minput_protein_folder\u001b[0m\u001b[0;34m,\u001b[0m \u001b[0meach_clade\u001b[0m\u001b[0;34m)\u001b[0m\u001b[0;34m\u001b[0m\u001b[0;34m\u001b[0m\u001b[0m\n\u001b[0;32m---> 26\u001b[0;31m     \u001b[0;32mfor\u001b[0m \u001b[0mseq_record\u001b[0m \u001b[0;32min\u001b[0m \u001b[0mSeqIO\u001b[0m\u001b[0;34m.\u001b[0m\u001b[0mparse\u001b[0m\u001b[0;34m(\u001b[0m\u001b[0minput_protein_fasta\u001b[0m\u001b[0;34m,\u001b[0m \u001b[0;34m\"fasta\"\u001b[0m\u001b[0;34m)\u001b[0m\u001b[0;34m:\u001b[0m\u001b[0;34m\u001b[0m\u001b[0;34m\u001b[0m\u001b[0m\n\u001b[0m\u001b[1;32m     27\u001b[0m         \u001b[0;32mif\u001b[0m \u001b[0;34m(\u001b[0m\u001b[0mseq_record\u001b[0m\u001b[0;34m.\u001b[0m\u001b[0mid\u001b[0m \u001b[0;34m==\u001b[0m \u001b[0meach_protein\u001b[0m\u001b[0;34m)\u001b[0m\u001b[0;34m:\u001b[0m\u001b[0;34m\u001b[0m\u001b[0;34m\u001b[0m\u001b[0m\n\u001b[1;32m     28\u001b[0m             \u001b[0mrecord_protein\u001b[0m \u001b[0;34m=\u001b[0m \u001b[0;34m\">\"\u001b[0m \u001b[0;34m+\u001b[0m \u001b[0mseq_record\u001b[0m\u001b[0;34m.\u001b[0m\u001b[0mid\u001b[0m \u001b[0;34m+\u001b[0m \u001b[0;34m\"\\n\"\u001b[0m \u001b[0;34m+\u001b[0m \u001b[0mseq_record\u001b[0m\u001b[0;34m.\u001b[0m\u001b[0mseq\u001b[0m \u001b[0;34m+\u001b[0m \u001b[0;34m\"\\n\"\u001b[0m\u001b[0;34m\u001b[0m\u001b[0;34m\u001b[0m\u001b[0m\n",
      "\u001b[0;32m~/miniconda3/lib/python3.9/site-packages/Bio/SeqIO/Interfaces.py\u001b[0m in \u001b[0;36m__next__\u001b[0;34m(self)\u001b[0m\n\u001b[1;32m     72\u001b[0m     \u001b[0;32mdef\u001b[0m \u001b[0m__next__\u001b[0m\u001b[0;34m(\u001b[0m\u001b[0mself\u001b[0m\u001b[0;34m)\u001b[0m\u001b[0;34m:\u001b[0m\u001b[0;34m\u001b[0m\u001b[0;34m\u001b[0m\u001b[0m\n\u001b[1;32m     73\u001b[0m         \u001b[0;32mtry\u001b[0m\u001b[0;34m:\u001b[0m\u001b[0;34m\u001b[0m\u001b[0;34m\u001b[0m\u001b[0m\n\u001b[0;32m---> 74\u001b[0;31m             \u001b[0;32mreturn\u001b[0m \u001b[0mnext\u001b[0m\u001b[0;34m(\u001b[0m\u001b[0mself\u001b[0m\u001b[0;34m.\u001b[0m\u001b[0mrecords\u001b[0m\u001b[0;34m)\u001b[0m\u001b[0;34m\u001b[0m\u001b[0;34m\u001b[0m\u001b[0m\n\u001b[0m\u001b[1;32m     75\u001b[0m         \u001b[0;32mexcept\u001b[0m \u001b[0mException\u001b[0m\u001b[0;34m:\u001b[0m\u001b[0;34m\u001b[0m\u001b[0;34m\u001b[0m\u001b[0m\n\u001b[1;32m     76\u001b[0m             \u001b[0;32mif\u001b[0m \u001b[0mself\u001b[0m\u001b[0;34m.\u001b[0m\u001b[0mshould_close_stream\u001b[0m\u001b[0;34m:\u001b[0m\u001b[0;34m\u001b[0m\u001b[0;34m\u001b[0m\u001b[0m\n",
      "\u001b[0;32m~/miniconda3/lib/python3.9/site-packages/Bio/SeqIO/FastaIO.py\u001b[0m in \u001b[0;36miterate\u001b[0;34m(self, handle)\u001b[0m\n\u001b[1;32m    204\u001b[0m                     \u001b[0mfirst_word\u001b[0m \u001b[0;34m=\u001b[0m \u001b[0;34m\"\"\u001b[0m\u001b[0;34m\u001b[0m\u001b[0;34m\u001b[0m\u001b[0m\n\u001b[1;32m    205\u001b[0m                 yield SeqRecord(\n\u001b[0;32m--> 206\u001b[0;31m                     \u001b[0mSeq\u001b[0m\u001b[0;34m(\u001b[0m\u001b[0msequence\u001b[0m\u001b[0;34m)\u001b[0m\u001b[0;34m,\u001b[0m \u001b[0mid\u001b[0m\u001b[0;34m=\u001b[0m\u001b[0mfirst_word\u001b[0m\u001b[0;34m,\u001b[0m \u001b[0mname\u001b[0m\u001b[0;34m=\u001b[0m\u001b[0mfirst_word\u001b[0m\u001b[0;34m,\u001b[0m \u001b[0mdescription\u001b[0m\u001b[0;34m=\u001b[0m\u001b[0mtitle\u001b[0m\u001b[0;34m,\u001b[0m\u001b[0;34m\u001b[0m\u001b[0;34m\u001b[0m\u001b[0m\n\u001b[0m\u001b[1;32m    207\u001b[0m                 )\n\u001b[1;32m    208\u001b[0m \u001b[0;34m\u001b[0m\u001b[0m\n",
      "\u001b[0;32m~/miniconda3/lib/python3.9/site-packages/Bio/Seq.py\u001b[0m in \u001b[0;36m__init__\u001b[0;34m(self, data, length)\u001b[0m\n\u001b[1;32m   1723\u001b[0m                 \u001b[0mself\u001b[0m\u001b[0;34m.\u001b[0m\u001b[0m_data\u001b[0m \u001b[0;34m=\u001b[0m \u001b[0mbytes\u001b[0m\u001b[0;34m(\u001b[0m\u001b[0mdata\u001b[0m\u001b[0;34m)\u001b[0m\u001b[0;34m\u001b[0m\u001b[0;34m\u001b[0m\u001b[0m\n\u001b[1;32m   1724\u001b[0m             \u001b[0;32melif\u001b[0m \u001b[0misinstance\u001b[0m\u001b[0;34m(\u001b[0m\u001b[0mdata\u001b[0m\u001b[0;34m,\u001b[0m \u001b[0mstr\u001b[0m\u001b[0;34m)\u001b[0m\u001b[0;34m:\u001b[0m\u001b[0;34m\u001b[0m\u001b[0;34m\u001b[0m\u001b[0m\n\u001b[0;32m-> 1725\u001b[0;31m                 \u001b[0mself\u001b[0m\u001b[0;34m.\u001b[0m\u001b[0m_data\u001b[0m \u001b[0;34m=\u001b[0m \u001b[0mbytes\u001b[0m\u001b[0;34m(\u001b[0m\u001b[0mdata\u001b[0m\u001b[0;34m,\u001b[0m \u001b[0mencoding\u001b[0m\u001b[0;34m=\u001b[0m\u001b[0;34m\"ASCII\"\u001b[0m\u001b[0;34m)\u001b[0m\u001b[0;34m\u001b[0m\u001b[0;34m\u001b[0m\u001b[0m\n\u001b[0m\u001b[1;32m   1726\u001b[0m             \u001b[0;32melse\u001b[0m\u001b[0;34m:\u001b[0m\u001b[0;34m\u001b[0m\u001b[0;34m\u001b[0m\u001b[0m\n\u001b[1;32m   1727\u001b[0m                 raise TypeError(\n",
      "\u001b[0;31mKeyboardInterrupt\u001b[0m: "
     ]
    }
   ],
   "source": [
    "# Output Selected Proteins as Fasta file \n",
    "\n",
    "output_dir = \"/home/guangyichen/Desktop\"\n",
    "input_protein_folder = \"/run/media/guangyichen/Sheldon/Clustering-Curated/clusterRes_1.0/All-Proteins\" \n",
    "\n",
    "counter = 1\n",
    "selected_prot = \"\"\n",
    "\n",
    "for each_protein in protein_list:\n",
    "    \n",
    "    #'''\n",
    "    if (each_protein[0:4] == \"HIPS\"):\n",
    "        each_clade = re.sub(\"_BOGUS_[0-9]{2,}\", \"\", each_protein)\n",
    "        each_clade = re.sub(\"_[a-z]{2,}.{2,}$\", \"\", each_clade)\n",
    "    else:\n",
    "        each_clade = re.sub(\".gb.{2,}\", \"\", each_protein)\n",
    "        each_clade = re.sub(\"_[a-z | A-Z].*.\", \"\", each_clade)\n",
    "    \n",
    "    each_clade = each_clade + \".fasta\"\n",
    "    #'''\n",
    "    \n",
    "    # For AF Data: \n",
    "    #each_clade = re.sub(\"-.{1,}$\",\".faa\",each_protein) \n",
    "    \n",
    "    input_protein_fasta = os.path.join(input_protein_folder, each_clade) \n",
    "    for seq_record in SeqIO.parse(input_protein_fasta, \"fasta\"):\n",
    "        if (seq_record.id == each_protein):\n",
    "            record_protein = \">\" + seq_record.id + \"\\n\" + seq_record.seq + \"\\n\"\n",
    "            selected_prot += record_protein\n",
    "            print(counter, end = \"\\r\")\n",
    "            counter += 1\n",
    "            break \n",
    "        else:\n",
    "            pass \n",
    "    \n",
    "\n",
    "out_f_name = \"Selected_Prot.fasta\"\n",
    "with open(os.path.join(output_dir, out_f_name), \"w\") as file:\n",
    "    file.write(str(selected_prot))"
   ]
  },
  {
   "cell_type": "code",
   "execution_count": null,
   "id": "31f11750",
   "metadata": {},
   "outputs": [],
   "source": []
  }
 ],
 "metadata": {
  "kernelspec": {
   "display_name": "Python 3 (ipykernel)",
   "language": "python",
   "name": "python3"
  },
  "language_info": {
   "codemirror_mode": {
    "name": "ipython",
    "version": 3
   },
   "file_extension": ".py",
   "mimetype": "text/x-python",
   "name": "python",
   "nbconvert_exporter": "python",
   "pygments_lexer": "ipython3",
   "version": "3.9.5"
  }
 },
 "nbformat": 4,
 "nbformat_minor": 5
}
