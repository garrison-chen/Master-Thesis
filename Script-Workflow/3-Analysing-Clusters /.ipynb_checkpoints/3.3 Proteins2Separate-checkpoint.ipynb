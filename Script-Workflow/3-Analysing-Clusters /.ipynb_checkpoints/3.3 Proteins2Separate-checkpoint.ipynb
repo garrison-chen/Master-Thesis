{
 "cells": [
  {
   "cell_type": "code",
   "execution_count": 10,
   "id": "d9163c1f",
   "metadata": {},
   "outputs": [
    {
     "name": "stdout",
     "output_type": "stream",
     "text": [
      "2%\r"
     ]
    }
   ],
   "source": [
    "import re\n",
    "import os\n",
    "from Bio import SeqIO\n",
    "\n",
    "#clade_name = \"\"\n",
    "#clade_records = \"\"\n",
    "\n",
    "all_clade_names = []\n",
    "input_protein_fasta = \"/home/guangyichen/Desktop/WIBI/phd/Tasks/Phylogeny/Phylogeny-redo/SI0.7_threshold-20/Selected_Prot_SI-0.7.fasta\"\n",
    "output_dir = \"/home/guangyichen/Desktop/WIBI/phd/Tasks/Phylogeny/Phylogeny-redo/SI0.7_threshold-20/toSeparate\"\n",
    "\n",
    "for seq_record in SeqIO.parse(input_protein_fasta, \"fasta\"):\n",
    "    \n",
    "    '''\n",
    "    record_header = seq_record.id\n",
    "    record_clade_name = re.sub(\".1_.*.$\",\"\",record_header)\n",
    "    record_protein = header + \"\\n\" + seq_record.seq\n",
    "    \n",
    "    if clade_name != clade_tmp:\n",
    "        \n",
    "        clade_name = clade_tmp\n",
    "        \n",
    "    else:\n",
    "    '''\n",
    "    \n",
    "    \n",
    "    # For Curated Data \n",
    "    record_clade_name = re.sub(\"_BOGUS_[0-9]{3,}$\",\"\",seq_record.id)\n",
    "    record_clade_name = re.sub(\"_[a-z].*.\",\"\",record_clade_name)\n",
    "    record_clade_name = re.sub(\"_WP.*.$\",\"\",record_clade_name)\n",
    "    record_clade_name = re.sub(\".gb_[a-z | A-Z ].*.\",\"\",record_clade_name)\n",
    "    record_clade_name = re.sub(\"_JPGINDPC_[0-9]{2,}\", \"\", record_clade_name)\n",
    "    \n",
    "    '''\n",
    "    # For AF Data: \n",
    "    record_clade_name = re.sub(\"-.{1,}$\",\"\",seq_record.id) \n",
    "    '''\n",
    "    all_clade_names.append(record_clade_name)\n",
    "\n",
    "unique_clade_name = set(all_clade_names)\n",
    "#print(len(unique_clade_name))\n",
    "#print(unique_clade_name)\n",
    "\n",
    "counter = 1\n",
    "for clade_name in unique_clade_name:\n",
    "    \n",
    "    output_proteins = \"\"\n",
    "    \n",
    "    for seq_record in SeqIO.parse(input_protein_fasta, \"fasta\"):\n",
    "        \n",
    "        # For Curated Data \n",
    "        _record_clade_name = re.sub(\"_BOGUS_[0-9]{3,}$\",\"\",seq_record.id)\n",
    "        _record_clade_name = re.sub(\"_[a-z].*.\",\"\",_record_clade_name)\n",
    "        _record_clade_name = re.sub(\"_WP.*.$\",\"\",_record_clade_name)\n",
    "        _record_clade_name = re.sub(\".gb_[a-z | A-Z ].*.\",\"\",_record_clade_name)\n",
    "        _record_clade_name = re.sub(\"_JPGINDPC_[0-9]{2,}\", \"\", _record_clade_name)\n",
    "        \n",
    "        '''\n",
    "        # For AF Data: \n",
    "        _record_clade_name = re.sub(\"-.{1,}$\",\"\",seq_record.id) \n",
    "        '''\n",
    "        \n",
    "\n",
    "        record_protein = \">\" + seq_record.id + \"\\n\" + seq_record.seq + \"\\n\"\n",
    "        \n",
    "        if _record_clade_name  == clade_name:\n",
    "            output_proteins += record_protein\n",
    "            \n",
    "    out_f_name = clade_name + \".fasta\"\n",
    "    \n",
    "    with open(os.path.join(output_dir, out_f_name), \"w\") as file:\n",
    "        file.write(str(output_proteins))\n",
    "    print(\"{0:.0%}\".format(counter/len(unique_clade_name)), end = \"\\r\")\n",
    "    counter += 1\n"
   ]
  },
  {
   "cell_type": "code",
   "execution_count": null,
   "id": "47423801",
   "metadata": {},
   "outputs": [],
   "source": []
  },
  {
   "cell_type": "code",
   "execution_count": null,
   "id": "fefd136f",
   "metadata": {},
   "outputs": [],
   "source": []
  }
 ],
 "metadata": {
  "kernelspec": {
   "display_name": "Python 3 (ipykernel)",
   "language": "python",
   "name": "python3"
  },
  "language_info": {
   "codemirror_mode": {
    "name": "ipython",
    "version": 3
   },
   "file_extension": ".py",
   "mimetype": "text/x-python",
   "name": "python",
   "nbconvert_exporter": "python",
   "pygments_lexer": "ipython3",
   "version": "3.9.5"
  }
 },
 "nbformat": 4,
 "nbformat_minor": 5
}
