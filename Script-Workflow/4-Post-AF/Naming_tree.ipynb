{
 "cells": [
  {
   "cell_type": "code",
   "execution_count": 2,
   "id": "53604162",
   "metadata": {},
   "outputs": [
    {
     "data": {
      "text/plain": [
       "'\\nGiven a phylogenetic tree, replacing the strain numbers with corresponding names\\n'"
      ]
     },
     "execution_count": 2,
     "metadata": {},
     "output_type": "execute_result"
    }
   ],
   "source": [
    "'''\n",
    "Given a phylogenetic tree, replacing the strain numbers with corresponding names\n",
    "'''\n",
    "\n",
    "import re\n",
    "import os\n",
    "from Bio import SeqIO\n",
    "import pandas as pd\n",
    "\n",
    "\n",
    "# Read tree file\n",
    "f1 = open(\"/home/guangyichen/Desktop/WIBI/phd/Tasks/Phylogeny/Phylogeny-redo/SI0.7_threshold-20/sans.new\", \"r\")\n",
    "tree = f1.read()\n",
    "#print(tree)\n",
    "\n",
    "# Build a mapping dictionatry\n",
    "tsv_read2 = pd.read_csv(\"/home/guangyichen/Desktop/WIBI/master-project/Phylogeny-Data/Final-Data/filename.txt\", header = None, delim_whitespace=True)\n",
    "accession_number = tsv_read2[0]\n",
    "tsv_read1 = pd.read_csv(\"/home/guangyichen/Desktop/WIBI/master-project/Phylogeny-Data/Final-Data/clade_names.txt\", header = None, delim_whitespace=True)\n",
    "strain_names = tsv_read1[0]\n",
    "\n",
    "# Replacing with the strain name\n",
    "for i in range(0,accession_number.size-1):\n",
    "    if tree.find(accession_number[i]) != -1:\n",
    "        tree = tree.replace(accession_number[i], strain_names[i])\n",
    "\n",
    "\n",
    "# Save the new tree\n",
    "output_dir = \"/home/guangyichen/Desktop/WIBI/phd/Tasks/Phylogeny/Phylogeny-redo/SI0.7_threshold-20/\"\n",
    "out_f_name = \"sans_name.new\"\n",
    "with open(os.path.join(output_dir, out_f_name), \"w\") as file:\n",
    "    file.write(str(tree))"
   ]
  },
  {
   "cell_type": "code",
   "execution_count": null,
   "id": "6b2de2dc",
   "metadata": {},
   "outputs": [],
   "source": []
  }
 ],
 "metadata": {
  "kernelspec": {
   "display_name": "Python 3 (ipykernel)",
   "language": "python",
   "name": "python3"
  },
  "language_info": {
   "codemirror_mode": {
    "name": "ipython",
    "version": 3
   },
   "file_extension": ".py",
   "mimetype": "text/x-python",
   "name": "python",
   "nbconvert_exporter": "python",
   "pygments_lexer": "ipython3",
   "version": "3.9.5"
  }
 },
 "nbformat": 4,
 "nbformat_minor": 5
}
