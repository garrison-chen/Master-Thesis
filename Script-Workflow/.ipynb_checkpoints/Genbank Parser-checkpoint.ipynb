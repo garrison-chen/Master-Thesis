{
 "cells": [
  {
   "cell_type": "code",
   "execution_count": 17,
   "id": "0363ecf5",
   "metadata": {},
   "outputs": [],
   "source": [
    "# Biopython's SeqIO module handles sequence input/output\n",
    "from Bio import SeqIO\n",
    "\n",
    "genome_record = SeqIO.read(\"GCF_012933655.1_ASM1293365v1_genomic.gbff\", \"genbank\")\n",
    "#print(genome_record)\n",
    "protein_seq = \"\"\n",
    "\n",
    "# Loop over the features\n",
    "for feature in genome_record.features:\n",
    "    if feature.type == \"CDS\" and str(feature.qualifiers.get('translation')) != \"None\":\n",
    "        #print(feature.qualifiers.get('translation'))\n",
    "        #print(\"\\n\")\n",
    "        #protein_id = feature.qualifiers.get('protein_id')\n",
    "        protein_seq += \">\" + str(feature.qualifiers.get('protein_id')) + \"\\n\" + str(feature.qualifiers.get('translation')) + \"\\n\"\n",
    "        #print(feature)\n",
    "\n",
    "protein_seq = protein_seq.replace(\"['\",\"\").replace(\"']\",\"\")\n",
    "#print(protein_seq)"
   ]
  },
  {
   "cell_type": "code",
   "execution_count": 8,
   "id": "361b8a64",
   "metadata": {},
   "outputs": [
    {
     "name": "stdout",
     "output_type": "stream",
     "text": [
      "\n"
     ]
    }
   ],
   "source": [
    "from Bio import SeqIO\n",
    "\n",
    "#seq_records = SeqIO.parse(\"GCF_012933655.1_ASM1293365v1_genomic.gbff\", \"genbank\")\n",
    "protein_seq = \"\"\n",
    "\n",
    "#Aseq_record = seq_records[0]\n",
    "for seq_record in SeqIO.parse(\"GCF_012933655.1_ASM1293365v1_genomic.gbff\", \"genbank\"):\n",
    "    #print(seq_record.id)\n",
    "    #print(seq_record.seq)\n",
    "    #print(repr(seq_record.seq))\n",
    "    #print(len(seq_record))\n",
    "    #genome_record = seq_record.description\n",
    "    \n",
    "    for feature in seq_record.features:\n",
    "        if feature.type == \"CDS\" and str(feature.qualifiers.get('translation')) != \"None\":\n",
    "            protein_seq += \">\" + str(feature.qualifiers.get('protein_id')) + \"\\n\" + str(feature.qualifiers.get('translation')) + \"\\n\"\n",
    "    \n",
    "    break\n",
    "    \n",
    "protein_seq = protein_seq.replace(\"['\",\"\").replace(\"']\",\"\")\n",
    "print(protein_seq)"
   ]
  },
  {
   "cell_type": "code",
   "execution_count": null,
   "id": "fd373415",
   "metadata": {},
   "outputs": [],
   "source": []
  },
  {
   "cell_type": "code",
   "execution_count": null,
   "id": "9431bde5",
   "metadata": {},
   "outputs": [],
   "source": []
  },
  {
   "cell_type": "code",
   "execution_count": null,
   "id": "5beb5d34",
   "metadata": {},
   "outputs": [],
   "source": []
  }
 ],
 "metadata": {
  "kernelspec": {
   "display_name": "Python 3",
   "language": "python",
   "name": "python3"
  },
  "language_info": {
   "codemirror_mode": {
    "name": "ipython",
    "version": 3
   },
   "file_extension": ".py",
   "mimetype": "text/x-python",
   "name": "python",
   "nbconvert_exporter": "python",
   "pygments_lexer": "ipython3",
   "version": "3.9.1"
  }
 },
 "nbformat": 4,
 "nbformat_minor": 5
}
