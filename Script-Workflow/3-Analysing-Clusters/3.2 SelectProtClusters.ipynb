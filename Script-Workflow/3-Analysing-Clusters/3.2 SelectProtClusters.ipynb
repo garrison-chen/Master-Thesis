{
 "cells": [
  {
   "cell_type": "code",
   "execution_count": 1,
   "id": "f351fb62",
   "metadata": {},
   "outputs": [],
   "source": [
    "import re\n",
    "import os\n",
    "from Bio import SeqIO\n",
    "import pandas as pd"
   ]
  },
  {
   "cell_type": "code",
   "execution_count": 2,
   "id": "bb93305a",
   "metadata": {},
   "outputs": [],
   "source": [
    "# read file\n",
    "\n",
    "mmseqs_res_path = \"/home/guangyichen/Desktop/WIBI/phd/Tasks/Phylogeny/Phylogeny-redo/SI0.7_threshold50/mmseqs_res/clusterRes_0.7_cluster.tsv\"\n",
    "tsv_read = pd.read_csv(mmseqs_res_path, header = None, delim_whitespace=True)\n",
    "representative_proteins = tsv_read[0]\n",
    "all_proteins = tsv_read[1]"
   ]
  },
  {
   "cell_type": "code",
   "execution_count": 3,
   "id": "b6fe2769",
   "metadata": {},
   "outputs": [
    {
     "name": "stdout",
     "output_type": "stream",
     "text": [
      "298750\n"
     ]
    }
   ],
   "source": [
    "# Select Protein Clusters\n",
    "# [Curated Data] \n",
    "# In total, threshold = 50, SI = 0.5, 350997 selected \n",
    "#           threshold = 50, SI = 0.6, 323989 selected \n",
    "#           threshold = 50, SI = 0.7, 268488 selected \n",
    "\n",
    "# Select Protein Clusters\n",
    "# [AF Data] \n",
    "\n",
    "\n",
    "threshold = 20 # Curated: 50, AF: 15?\n",
    "\n",
    "protein_list = [] \n",
    "#protein_cluster_list = []\n",
    "\n",
    "for i in range(0,all_proteins.size-1):\n",
    "    if (representative_proteins[i] != \"-\"):\n",
    "        each_cluster = []\n",
    "        each_cluster.append(representative_proteins[i])\n",
    "        for j in range(i+1,representative_proteins.size-1):\n",
    "            if (representative_proteins[j] == representative_proteins[i]):\n",
    "                each_cluster.append(all_proteins[j])\n",
    "                representative_proteins[j] = \"-\"\n",
    "            else:\n",
    "                break\n",
    "\n",
    "        clades_list = []\n",
    "        for k in range(0, len(each_cluster)-1):\n",
    "            each_protein = each_cluster[k]\n",
    "            #print(each_protein)\n",
    "            \n",
    "            #'''\n",
    "            # For Curated Data\n",
    "            if (each_protein[0:4] == \"HIPS\"):\n",
    "                each_clade = re.sub(\"_BOGUS_[0-9]{2,}\", \"\", each_protein)\n",
    "                each_clade = re.sub(\"_[a-z]{2,}.{2,}$\", \"\", each_clade)\n",
    "            elif (each_protein[0:3] == \"SBCy\"):\n",
    "                each_clade = re.sub(\"_JPGINDPC_[0-9]{2,}\", \"\", each_protein)\n",
    "            else:\n",
    "                each_clade = re.sub(\".gb.{2,}\", \"\", each_protein)\n",
    "                each_clade = re.sub(\"_[a-z | A-Z].*.\", \"\", each_clade)\n",
    "            \n",
    "            #'''\n",
    "    \n",
    "            # For AF Data: \n",
    "            #each_clade = re.sub(\"-.{1,}$\",\"\",each_protein)\n",
    "            \n",
    "            clades_list.append(each_clade)\n",
    "\n",
    "        clades_set = set(clades_list) \n",
    "        \n",
    "        if (len(clades_set) >= threshold):\n",
    "            #protein_cluster_list.append(each_cluster)\n",
    "            \n",
    "            for each_protein in each_cluster:\n",
    "                protein_list.append(each_protein)\n",
    "                \n",
    "            #print(\"----\")\n",
    "\n",
    "print(len(protein_list))\n",
    "#print(protein_list)"
   ]
  },
  {
   "cell_type": "code",
   "execution_count": 4,
   "id": "2b08bf38",
   "metadata": {},
   "outputs": [
    {
     "name": "stdout",
     "output_type": "stream",
     "text": [
      "57\n"
     ]
    }
   ],
   "source": [
    "# Get Unique Clade \n",
    "# For testing purpose \n",
    "\n",
    "all_clade_names = []\n",
    "    \n",
    "for each_protein in protein_list: \n",
    "    #'''\n",
    "    if (each_protein[0:4] == \"HIPS\"):\n",
    "        record_clade_name = re.sub(\"_BOGUS_[0-9]{2,}\", \"\", each_protein)\n",
    "        record_clade_name = re.sub(\"_[a-z]{2,}.{2,}$\", \"\", record_clade_name)\n",
    "    elif (each_protein[0:3] == \"SBCy\"):\n",
    "        each_clade = re.sub(\"_JPGINDPC_[0-9]{2,}\", \"\", each_protein)\n",
    "    else:\n",
    "        record_clade_name = re.sub(\".gb.{2,}\", \"\", each_protein)\n",
    "        record_clade_name = re.sub(\"_[a-z | A-Z].*.\", \"\", record_clade_name)\n",
    "    #'''\n",
    "        \n",
    "     # For AF Data: \n",
    "    #record_clade_name = re.sub(\"-.{1,}$\",\"\",each_protein)        \n",
    "        \n",
    "        \n",
    "    all_clade_names.append(record_clade_name)\n",
    "    \n",
    "    \n",
    "unique_clade_name = set(all_clade_names)\n",
    "#list(unique_clade_name)\n",
    "print(len(unique_clade_name))\n",
    "#print(unique_clade_name)\n",
    "\n"
   ]
  },
  {
   "cell_type": "code",
   "execution_count": 17,
   "id": "ab1e27e5",
   "metadata": {},
   "outputs": [
    {
     "name": "stdout",
     "output_type": "stream",
     "text": [
      "100%\r"
     ]
    }
   ],
   "source": [
    "# Output Selected Proteins as Fasta file \n",
    "\n",
    "output_dir = \"/home/guangyichen/Desktop\"\n",
    "input_protein_folder = \"/home/guangyichen/Desktop/WIBI/phd/Tasks/Phylogeny/Phylogeny-redo/All-Proteins\" \n",
    "\n",
    "counter = 1\n",
    "selected_prot = \"\"\n",
    "\n",
    "for each_protein in protein_list:\n",
    "    \n",
    "    #'''\n",
    "    if (each_protein[0:4] == \"HIPS\"):\n",
    "        each_clade = re.sub(\"_BOGUS_[0-9]{2,}\", \"\", each_protein)\n",
    "        each_clade = re.sub(\"_[a-z]{2,}.{2,}$\", \"\", each_clade)\n",
    "    elif (each_protein[0:3] == \"SBCy\"):\n",
    "        each_clade = re.sub(\"_JPGINDPC_[0-9]{2,}\", \"\", each_protein)\n",
    "    else:\n",
    "        each_clade = re.sub(\".gb.{2,}\", \"\", each_protein)\n",
    "        each_clade = re.sub(\"_[a-z | A-Z].*.\", \"\", each_clade)\n",
    "    \n",
    "    each_clade = each_clade + \".fasta\"\n",
    "    #'''\n",
    "    \n",
    "    # For AF Data: \n",
    "    #each_clade = re.sub(\"-.{1,}$\",\".faa\",each_protein) \n",
    "    \n",
    "    input_protein_fasta = os.path.join(input_protein_folder, each_clade) \n",
    "    for seq_record in SeqIO.parse(input_protein_fasta, \"fasta\"):\n",
    "        if (seq_record.id == each_protein):\n",
    "            record_protein = \">\" + seq_record.id + \"\\n\" + seq_record.seq + \"\\n\"\n",
    "            selected_prot += record_protein\n",
    "            #print(counter/len(protein_list)*100, end = \"\\r\")\n",
    "            print(\"{0:.0%}\".format(counter/len(protein_list)), end = \"\\r\")\n",
    "            counter += 1\n",
    "            break \n",
    "        else:\n",
    "            pass \n",
    "    \n",
    "\n",
    "out_f_name = \"Selected_Prot.fasta\"\n",
    "with open(os.path.join(output_dir, out_f_name), \"w\") as file:\n",
    "    file.write(str(selected_prot))"
   ]
  },
  {
   "cell_type": "code",
   "execution_count": null,
   "id": "31f11750",
   "metadata": {},
   "outputs": [],
   "source": []
  },
  {
   "cell_type": "code",
   "execution_count": null,
   "id": "e991d826",
   "metadata": {},
   "outputs": [],
   "source": []
  },
  {
   "cell_type": "code",
   "execution_count": null,
   "id": "26c6adac",
   "metadata": {},
   "outputs": [],
   "source": []
  }
 ],
 "metadata": {
  "kernelspec": {
   "display_name": "Python 3 (ipykernel)",
   "language": "python",
   "name": "python3"
  },
  "language_info": {
   "codemirror_mode": {
    "name": "ipython",
    "version": 3
   },
   "file_extension": ".py",
   "mimetype": "text/x-python",
   "name": "python",
   "nbconvert_exporter": "python",
   "pygments_lexer": "ipython3",
   "version": "3.9.5"
  }
 },
 "nbformat": 4,
 "nbformat_minor": 5
}
